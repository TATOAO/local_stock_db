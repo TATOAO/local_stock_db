{
 "cells": [
  {
   "cell_type": "raw",
   "metadata": {
    "vscode": {
     "languageId": "raw"
    }
   },
   "source": [
    "# AKShare Functions Examples\n",
    "\n",
    "This notebook demonstrates the akshare functions used in the `data_fetcher` folder of this project.\n",
    "\n",
    "## Introduction to AKShare\n",
    "\n",
    "AKShare is a Python library that provides access to Chinese stock market data. It's designed to be simple and efficient for financial data analysis.\n",
    "\n",
    "## Installation\n",
    "\n",
    "```bash\n",
    "pip install akshare\n",
    "```\n"
   ]
  },
  {
   "cell_type": "code",
   "execution_count": null,
   "id": "ec39931a",
   "metadata": {},
   "outputs": [],
   "source": [
    "# Import required libraries\n",
    "import akshare as ak\n",
    "import pandas as pd\n",
    "import numpy as np\n",
    "from datetime import datetime, timedelta\n",
    "import warnings\n",
    "warnings.filterwarnings('ignore')\n",
    "\n",
    "# Display settings for better output\n",
    "pd.set_option('display.max_columns', None)\n",
    "pd.set_option('display.width', None)\n",
    "pd.set_option('display.max_colwidth', None)\n",
    "\n",
    "print(\"✅ Libraries imported successfully!\")\n",
    "print(f\"📊 AKShare version: {ak.__version__}\")\n",
    "print(f\"🐼 Pandas version: {pd.__version__}\")\n",
    "print(f\"🔢 NumPy version: {np.__version__}\")\n"
   ]
  },
  {
   "cell_type": "raw",
   "metadata": {
    "vscode": {
     "languageId": "raw"
    }
   },
   "source": [
    "## 1. Getting Real-time Stock Data\n",
    "\n",
    "The `ak.stock_zh_a_spot_em()` function is the most used function in our project. It retrieves real-time data for all A-share stocks.\n"
   ]
  },
  {
   "cell_type": "code",
   "execution_count": null,
   "id": "6e23f763",
   "metadata": {},
   "outputs": [],
   "source": [
    "# Get real-time data for all A-share stocks\n",
    "print(\"📊 Fetching real-time stock data...\")\n",
    "real_time_data = ak.stock_zh_a_spot_em()\n",
    "\n",
    "print(f\"✅ Successfully retrieved {len(real_time_data)} stocks\")\n",
    "print(f\"📈 Data shape: {real_time_data.shape}\")\n",
    "print(f\"📅 Data columns: {list(real_time_data.columns)}\")\n",
    "\n",
    "# Display first 5 rows\n",
    "print(\"\\n🔍 First 5 stocks:\")\n",
    "real_time_data.head()\n"
   ]
  },
  {
   "cell_type": "code",
   "execution_count": null,
   "id": "321623d7",
   "metadata": {},
   "outputs": [],
   "source": [
    "# Example: Find specific stocks (like 平安银行 - Ping An Bank)\n",
    "print(\"🔍 Searching for specific stocks...\")\n",
    "\n",
    "# Search by stock code\n",
    "ping_an_bank = real_time_data[real_time_data['代码'] == '000001']\n",
    "print(\"\\n🏦 平安银行 (Ping An Bank - 000001):\")\n",
    "if not ping_an_bank.empty:\n",
    "    stock = ping_an_bank.iloc[0]\n",
    "    print(f\"   📛 Name: {stock['名称']}\")\n",
    "    print(f\"   💰 Current Price: {stock['最新价']} CNY\")\n",
    "    print(f\"   📊 Change: {stock['涨跌幅']}%\")\n",
    "    print(f\"   🔄 Volume: {stock['成交量']:,}\")\n",
    "    print(f\"   💵 Amount: {stock['成交额']:,.0f} CNY\")\n",
    "else:\n",
    "    print(\"   ❌ Stock not found\")\n",
    "\n",
    "# Search by name (contains keyword)\n",
    "print(\"\\n🔍 Searching stocks with '银行' (Bank) in name:\")\n",
    "bank_stocks = real_time_data[real_time_data['名称'].str.contains('银行', na=False)]\n",
    "print(f\"   📈 Found {len(bank_stocks)} bank stocks\")\n",
    "bank_stocks[['代码', '名称', '最新价', '涨跌幅', '成交量']].head(10)\n"
   ]
  },
  {
   "cell_type": "code",
   "execution_count": null,
   "id": "972d9056",
   "metadata": {},
   "outputs": [],
   "source": [
    "# Example: Get top performers (highest gains)\n",
    "print(\"🚀 Top 10 gainers today:\")\n",
    "top_gainers = real_time_data.nlargest(10, '涨跌幅')\n",
    "display_cols = ['代码', '名称', '最新价', '涨跌幅', '成交量']\n",
    "print(top_gainers[display_cols].to_string(index=False))\n"
   ]
  },
  {
   "cell_type": "raw",
   "metadata": {
    "vscode": {
     "languageId": "raw"
    }
   },
   "source": [
    "## 2. Getting Individual Stock Information\n",
    "\n",
    "The `ak.stock_individual_info_em()` function provides detailed information about a specific stock.\n"
   ]
  },
  {
   "cell_type": "code",
   "execution_count": null,
   "id": "738f5f7a",
   "metadata": {},
   "outputs": [],
   "source": [
    "# Get detailed information for a specific stock\n",
    "symbol = '000001'  # 平安银行\n",
    "print(f\"📋 Getting detailed information for stock {symbol}...\")\n",
    "\n",
    "try:\n",
    "    stock_info = ak.stock_individual_info_em(symbol=symbol)\n",
    "    print(f\"✅ Successfully retrieved information for {symbol}\")\n",
    "    \n",
    "    # Display the raw data\n",
    "    print(\"\\n📊 Raw stock information:\")\n",
    "    print(stock_info)\n",
    "    \n",
    "    # Convert to a more readable format\n",
    "    print(\"\\n📋 Formatted stock information:\")\n",
    "    info_dict = {}\n",
    "    for _, row in stock_info.iterrows():\n",
    "        info_dict[row['item']] = row['value']\n",
    "    \n",
    "    # Display key information\n",
    "    key_info = {\n",
    "        '股票代码': symbol,\n",
    "        '股票名称': info_dict.get('股票名称', 'N/A'),\n",
    "        '所属行业': info_dict.get('所属行业', 'N/A'),\n",
    "        '总股本': info_dict.get('总股本', 'N/A'),\n",
    "        '流通股本': info_dict.get('流通股本', 'N/A'),\n",
    "        '总市值': info_dict.get('总市值', 'N/A'),\n",
    "        '市盈率': info_dict.get('市盈率', 'N/A'),\n",
    "        '市净率': info_dict.get('市净率', 'N/A')\n",
    "    }\n",
    "    \n",
    "    for key, value in key_info.items():\n",
    "        print(f\"   {key}: {value}\")\n",
    "        \n",
    "except Exception as e:\n",
    "    print(f\"❌ Error getting stock info: {e}\")\n"
   ]
  },
  {
   "cell_type": "raw",
   "metadata": {
    "vscode": {
     "languageId": "raw"
    }
   },
   "source": [
    "## 3. Getting Historical Stock Data\n",
    "\n",
    "The `ak.stock_zh_a_hist()` function retrieves historical price data for a specific stock.\n"
   ]
  },
  {
   "cell_type": "code",
   "execution_count": null,
   "id": "9f4d615b",
   "metadata": {},
   "outputs": [],
   "source": [
    "# Get historical data for a specific stock\n",
    "symbol = '000001'  # 平安银行\n",
    "start_date = '20240101'  # Start of 2024\n",
    "end_date = datetime.now().strftime('%Y%m%d')  # Today\n",
    "\n",
    "print(f\"📈 Getting historical data for {symbol}...\")\n",
    "print(f\"📅 Period: {start_date} to {end_date}\")\n",
    "\n",
    "try:\n",
    "    # Get daily historical data\n",
    "    hist_data = ak.stock_zh_a_hist(symbol=symbol, period='daily', start_date=start_date, end_date=end_date)\n",
    "    \n",
    "    print(f\"✅ Successfully retrieved {len(hist_data)} trading days\")\n",
    "    print(f\"📊 Data shape: {hist_data.shape}\")\n",
    "    print(f\"📅 Columns: {list(hist_data.columns)}\")\n",
    "    \n",
    "    # Display first few rows\n",
    "    print(\"\\n📈 First 5 trading days:\")\n",
    "    print(hist_data.head())\n",
    "    \n",
    "    # Display last few rows\n",
    "    print(\"\\n📈 Last 5 trading days:\")\n",
    "    print(hist_data.tail())\n",
    "    \n",
    "except Exception as e:\n",
    "    print(f\"❌ Error getting historical data: {e}\")\n"
   ]
  },
  {
   "cell_type": "raw",
   "metadata": {
    "vscode": {
     "languageId": "raw"
    }
   },
   "source": [
    "## 4. Practical Examples - Combining Functions\n",
    "\n",
    "Here are some practical examples that combine multiple akshare functions, similar to how they're used in the `data_fetcher` module.\n"
   ]
  },
  {
   "cell_type": "code",
   "execution_count": null,
   "id": "fb8526f6",
   "metadata": {},
   "outputs": [],
   "source": [
    "# Example: Build a stock screener\n",
    "print(\"🔍 Building a Stock Screener...\")\n",
    "\n",
    "# Get real-time data\n",
    "rt_data = ak.stock_zh_a_spot_em()\n",
    "\n",
    "# Filter criteria\n",
    "min_price = 10.0\n",
    "max_price = 50.0\n",
    "min_volume = 1000000  # 1M shares\n",
    "min_gain = 2.0  # 2% gain\n",
    "\n",
    "print(f\"\\n📊 Screening criteria:\")\n",
    "print(f\"   Price range: {min_price} - {max_price} CNY\")\n",
    "print(f\"   Minimum volume: {min_volume:,} shares\")\n",
    "print(f\"   Minimum gain: {min_gain}%\")\n",
    "\n",
    "# Apply filters\n",
    "screened_stocks = rt_data[\n",
    "    (rt_data['最新价'] >= min_price) &\n",
    "    (rt_data['最新价'] <= max_price) &\n",
    "    (rt_data['成交量'] >= min_volume) &\n",
    "    (rt_data['涨跌幅'] >= min_gain)\n",
    "]\n",
    "\n",
    "print(f\"\\n✅ Found {len(screened_stocks)} stocks matching criteria\")\n",
    "\n",
    "if len(screened_stocks) > 0:\n",
    "    # Sort by gain percentage\n",
    "    screened_stocks = screened_stocks.sort_values('涨跌幅', ascending=False)\n",
    "    \n",
    "    print(\"\\n🎯 Top matches:\")\n",
    "    display_cols = ['代码', '名称', '最新价', '涨跌幅', '成交量', '成交额']\n",
    "    print(screened_stocks[display_cols].head(10).to_string(index=False))\n",
    "else:\n",
    "    print(\"   No stocks found matching all criteria\")\n"
   ]
  },
  {
   "cell_type": "raw",
   "metadata": {
    "vscode": {
     "languageId": "raw"
    }
   },
   "source": [
    "## 5. Error Handling and Best Practices\n",
    "\n",
    "When working with akshare, it's important to handle errors gracefully and follow best practices.\n"
   ]
  },
  {
   "cell_type": "code",
   "execution_count": null,
   "id": "de36258b",
   "metadata": {},
   "outputs": [],
   "source": [
    "# Example: Robust data fetching with error handling\n",
    "import time\n",
    "from typing import Optional, Dict, List\n",
    "\n",
    "def safe_get_stock_info(symbol: str, max_retries: int = 3) -> Optional[Dict]:\n",
    "    \"\"\"Safely get stock information with retries\"\"\"\n",
    "    for attempt in range(max_retries):\n",
    "        try:\n",
    "            print(f\"   Attempt {attempt + 1}/{max_retries} for {symbol}\")\n",
    "            \n",
    "            # Get stock info\n",
    "            stock_info = ak.stock_individual_info_em(symbol=symbol)\n",
    "            \n",
    "            if stock_info.empty:\n",
    "                print(f\"   ⚠️  No data found for {symbol}\")\n",
    "                return None\n",
    "            \n",
    "            # Convert to dict format\n",
    "            info_dict = {}\n",
    "            for _, row in stock_info.iterrows():\n",
    "                info_dict[row['item']] = row['value']\n",
    "            \n",
    "            return {\n",
    "                'symbol': symbol,\n",
    "                'name': info_dict.get('股票名称', ''),\n",
    "                'sector': info_dict.get('所属行业', ''),\n",
    "                'market_cap': info_dict.get('总市值', 0),\n",
    "                'pe_ratio': info_dict.get('市盈率', 0),\n",
    "                'pb_ratio': info_dict.get('市净率', 0)\n",
    "            }\n",
    "            \n",
    "        except Exception as e:\n",
    "            print(f\"   ❌ Attempt {attempt + 1} failed: {e}\")\n",
    "            if attempt < max_retries - 1:\n",
    "                time.sleep(1)  # Wait before retry\n",
    "            else:\n",
    "                print(f\"   ❌ All attempts failed for {symbol}\")\n",
    "                return None\n",
    "\n",
    "# Test the robust function\n",
    "print(\"🔒 Testing robust data fetching:\")\n",
    "test_symbols = ['000001', '000002', '999999']  # Include a non-existent symbol\n",
    "\n",
    "for symbol in test_symbols:\n",
    "    print(f\"\\n📊 Processing {symbol}:\")\n",
    "    result = safe_get_stock_info(symbol)\n",
    "    if result:\n",
    "        print(f\"   ✅ Success: {result['name']} - {result['sector']}\")\n",
    "    else:\n",
    "        print(f\"   ❌ Failed to get data for {symbol}\")\n"
   ]
  },
  {
   "cell_type": "raw",
   "metadata": {
    "vscode": {
     "languageId": "raw"
    }
   },
   "source": [
    "## 6. Summary\n",
    "\n",
    "This notebook demonstrates the main akshare functions used in the `data_fetcher` module:\n",
    "\n",
    "### Key Functions:\n",
    "\n",
    "1. **`ak.stock_zh_a_spot_em()`** - Real-time data for all A-shares\n",
    "   - Most versatile function\n",
    "   - Returns comprehensive market data\n",
    "   - Used for screening, monitoring, and analysis\n",
    "\n",
    "2. **`ak.stock_individual_info_em(symbol)`** - Individual stock information\n",
    "   - Detailed company information\n",
    "   - Financial ratios and metrics\n",
    "   - Sector and industry classification\n",
    "\n",
    "3. **`ak.stock_zh_a_hist(symbol, period, start_date, end_date)`** - Historical data\n",
    "   - OHLCV data for analysis\n",
    "   - Multiple time periods (daily, weekly, monthly)\n",
    "   - Essential for backtesting and trend analysis\n",
    "\n",
    "### Best Practices:\n",
    "\n",
    "- Always handle exceptions gracefully\n",
    "- Implement retry logic for network issues\n",
    "- Test connections before bulk operations\n",
    "- Be mindful of rate limits\n",
    "- Validate data before processing\n",
    "- Use appropriate data types for numerical operations\n",
    "\n",
    "### Next Steps:\n",
    "\n",
    "- Explore additional akshare functions for specific needs\n",
    "- Implement data caching for better performance\n",
    "- Add data visualization for better insights\n",
    "- Consider using databases for data storage\n",
    "- Build automated monitoring and alerting systems\n",
    "\n",
    "### Related Files in Project:\n",
    "\n",
    "- `data_fetcher/akshare_client.py` - Main client implementation\n",
    "- `data_fetcher/scheduler.py` - Automated data collection\n",
    "- `config.py` - Configuration settings\n",
    "- `database/models.py` - Database models for data storage\n"
   ]
  }
 ],
 "metadata": {
  "language_info": {
   "name": "python"
  }
 },
 "nbformat": 4,
 "nbformat_minor": 5
}
